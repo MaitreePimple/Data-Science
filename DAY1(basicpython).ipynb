{
  "nbformat": 4,
  "nbformat_minor": 0,
  "metadata": {
    "colab": {
      "provenance": [],
      "toc_visible": true
    },
    "kernelspec": {
      "name": "python3",
      "display_name": "Python 3"
    },
    "language_info": {
      "name": "python"
    }
  },
  "cells": [
    {
      "cell_type": "code",
      "execution_count": null,
      "metadata": {
        "id": "g-4_cmaFzfmT"
      },
      "outputs": [],
      "source": []
    },
    {
      "cell_type": "code",
      "source": [
        "X=5\n",
        "M=6"
      ],
      "metadata": {
        "id": "RwjJtL9y4T6B"
      },
      "execution_count": null,
      "outputs": []
    }
  ]
}