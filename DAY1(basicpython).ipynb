{
  "nbformat": 4,
  "nbformat_minor": 0,
  "metadata": {
    "colab": {
      "provenance": [],
      "authorship_tag": "ABX9TyNsFe5h5oDYpWaGQqYmdRHt",
      "include_colab_link": true
    },
    "kernelspec": {
      "name": "python3",
      "display_name": "Python 3"
    },
    "language_info": {
      "name": "python"
    }
  },
  "cells": [
    {
      "cell_type": "markdown",
      "metadata": {
        "id": "view-in-github",
        "colab_type": "text"
      },
      "source": [
        "<a href=\"https://colab.research.google.com/github/MaitreePimple/Data-Science/blob/main/DAY1(basicpython).ipynb\" target=\"_parent\"><img src=\"https://colab.research.google.com/assets/colab-badge.svg\" alt=\"Open In Colab\"/></a>"
      ]
    },
    {
      "cell_type": "code",
      "execution_count": 1,
      "metadata": {
        "colab": {
          "base_uri": "https://localhost:8080/"
        },
        "id": "g-4_cmaFzfmT",
        "outputId": "dd3aed8a-f138-41b2-df10-bea3aad07543"
      },
      "outputs": [
        {
          "output_type": "stream",
          "name": "stdout",
          "text": [
            "<class 'int'>\n",
            "<class 'str'>\n",
            "<class 'int'>\n",
            "<class 'str'>\n",
            "<class 'str'>\n",
            "92\n",
            "11\n",
            "8\n"
          ]
        }
      ],
      "source": [
        "X=5\n",
        "M=6\n",
        "Y=\"9\"\n",
        "z=\"2\"\n",
        "print(type(X))\n",
        "print(type(Y))\n",
        "print(type(M))\n",
        "print(type(z))\n",
        "print(type(Y+z))\n",
        "print(Y+z)\n",
        "print(X+M)\n",
        "a=int(z)\n",
        "print(a+M)"
      ]
    },
    {
      "cell_type": "code",
      "source": [
        "#list\n",
        "l1=['hii','12','list','MAITREE',[9.5,'56','yes']]\n",
        "l2=l1[4][2]\n",
        "print(l2)\n",
        "print(len(l2))\n",
        "print(type(l1))\n",
        "nums=[]\n",
        "nums.append(34)\n",
        "nums.append('MAITREE')\n",
        "nums.append(67.5)\n",
        "print(nums)"
      ],
      "metadata": {
        "colab": {
          "base_uri": "https://localhost:8080/"
        },
        "id": "RwjJtL9y4T6B",
        "outputId": "38dcb78c-e166-40e6-f3e3-746316301c5b"
      },
      "execution_count": 3,
      "outputs": [
        {
          "output_type": "stream",
          "name": "stdout",
          "text": [
            "yes\n",
            "3\n",
            "<class 'list'>\n",
            "[34, 'MAITREE', 67.5]\n"
          ]
        }
      ]
    },
    {
      "cell_type": "code",
      "source": [
        "#tuple\n",
        "t1=()\n",
        "print(type(t1))"
      ],
      "metadata": {
        "colab": {
          "base_uri": "https://localhost:8080/"
        },
        "id": "MWMI5Pl_AH5v",
        "outputId": "c35a59c1-4bae-4dd7-b26e-2b7f52f64c09"
      },
      "execution_count": 4,
      "outputs": [
        {
          "output_type": "stream",
          "name": "stdout",
          "text": [
            "<class 'tuple'>\n"
          ]
        }
      ]
    },
    {
      "cell_type": "code",
      "source": [
        "#dictionary\n",
        "d1={'name':'MAITREE','age':12,'salary':1800}\n",
        "print(d1)\n",
        "print(type(d1))\n",
        "print(d1.keys())\n",
        "print(d1.items())\n",
        "print(d1.values())\n",
        "print(d1['age'])"
      ],
      "metadata": {
        "colab": {
          "base_uri": "https://localhost:8080/"
        },
        "id": "yYkge283ASqT",
        "outputId": "a8241224-9fee-445a-c9ea-c4437f8ce6ce"
      },
      "execution_count": 7,
      "outputs": [
        {
          "output_type": "stream",
          "name": "stdout",
          "text": [
            "{'name': 'MAITREE', 'age': 12, 'salary': 1800}\n",
            "<class 'dict'>\n",
            "dict_keys(['name', 'age', 'salary'])\n",
            "dict_items([('name', 'MAITREE'), ('age', 12), ('salary', 1800)])\n",
            "dict_values(['MAITREE', 12, 1800])\n",
            "12\n"
          ]
        }
      ]
    },
    {
      "cell_type": "code",
      "source": [
        "#input\n",
        "x=int(input(\"enter num1:\"))\n",
        "y=int(input(\"enter num2:\"))\n",
        "print(x*y)\n",
        "if 34>x:\n",
        "  print(\"number is good\")\n",
        "elif 34<y:\n",
        "  print(\"numberis not good\")\n",
        "else:\n",
        " print(\"number is okayyish\")"
      ],
      "metadata": {
        "colab": {
          "base_uri": "https://localhost:8080/"
        },
        "id": "YDmfShEsASyv",
        "outputId": "81a8aa51-0bde-48dd-eaf1-f0dc7714f9db"
      },
      "execution_count": 8,
      "outputs": [
        {
          "output_type": "stream",
          "name": "stdout",
          "text": [
            "enter num1:12\n",
            "enter num2:34\n",
            "408\n",
            "number is good\n"
          ]
        }
      ]
    },
    {
      "cell_type": "code",
      "source": [
        "import numpy as np\n",
        "arr=np.array((1,2,3))\n",
        "print(\"array with rank 2:\",arr)\n",
        "print(type(arr))\n",
        "print(\"array size:\",arr.size)"
      ],
      "metadata": {
        "colab": {
          "base_uri": "https://localhost:8080/"
        },
        "id": "zoIHYrSjAXlp",
        "outputId": "fdd6cf83-c7e3-4c1d-e9e7-847c31dbd6c8"
      },
      "execution_count": 9,
      "outputs": [
        {
          "output_type": "stream",
          "name": "stdout",
          "text": [
            "array with rank 2: [1 2 3]\n",
            "<class 'numpy.ndarray'>\n",
            "array size: 3\n"
          ]
        }
      ]
    },
    {
      "cell_type": "code",
      "source": [
        "#view\n",
        "#copy\n",
        "#def\n",
        "#base function to get the original value\n",
        "import pandas as pd\n",
        "mydataset={\n",
        "    'cars':['bmw',\"mercedes\",\"porcshe\"],\n",
        "    'passings':[3,4,5]\n",
        "}\n",
        "myvar=pd.DataFrame(mydataset)\n",
        "print(myvar)\n",
        "df = pd.read_csv('california_housing_train.csv')\n",
        "print(df)"
      ],
      "metadata": {
        "id": "_5PhCQaVBdhY"
      },
      "execution_count": null,
      "outputs": []
    }
  ]
}