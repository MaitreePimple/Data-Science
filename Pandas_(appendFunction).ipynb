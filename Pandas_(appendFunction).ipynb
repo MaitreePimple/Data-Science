{
  "nbformat": 4,
  "nbformat_minor": 0,
  "metadata": {
    "colab": {
      "provenance": [],
      "authorship_tag": "ABX9TyNyhkJiM6oqG4iHGjiqCOoA",
      "include_colab_link": true
    },
    "kernelspec": {
      "name": "python3",
      "display_name": "Python 3"
    },
    "language_info": {
      "name": "python"
    }
  },
  "cells": [
    {
      "cell_type": "markdown",
      "metadata": {
        "id": "view-in-github",
        "colab_type": "text"
      },
      "source": [
        "<a href=\"https://colab.research.google.com/github/MaitreePimple/Data-Science/blob/main/Pandas_(appendFunction).ipynb\" target=\"_parent\"><img src=\"https://colab.research.google.com/assets/colab-badge.svg\" alt=\"Open In Colab\"/></a>"
      ]
    },
    {
      "cell_type": "markdown",
      "source": [
        "Append Function\n"
      ],
      "metadata": {
        "id": "gM9Q16e9oaoT"
      }
    },
    {
      "cell_type": "code",
      "source": [
        "import pandas as pd"
      ],
      "metadata": {
        "id": "uFjvF1Z8ohAZ"
      },
      "execution_count": 6,
      "outputs": []
    },
    {
      "cell_type": "code",
      "source": [
        "df1 = pd.DataFrame({'Roll No.':[1,2,3,4,5], 'Maths':[45,78,78,76,98], 'Physics':[34,45,56,73,78]})\n",
        "df2 = pd.DataFrame({'Roll No.':[6,7,8,9,10], 'Maths':[43,70,75,70,89], 'Physics':[38,47,59,70,80]})\n",
        "print (df1)\n",
        "print (df2)\n"
      ],
      "metadata": {
        "colab": {
          "base_uri": "https://localhost:8080/"
        },
        "id": "B5U5qD8PowtK",
        "outputId": "62d02a60-a499-44e5-8f50-f0f9e48bff16"
      },
      "execution_count": 11,
      "outputs": [
        {
          "output_type": "stream",
          "name": "stdout",
          "text": [
            "   Roll No.  Maths  Physics\n",
            "0         1     45       34\n",
            "1         2     78       45\n",
            "2         3     78       56\n",
            "3         4     76       73\n",
            "4         5     98       78\n",
            "   Roll No.  Maths  Physics\n",
            "0         6     43       38\n",
            "1         7     70       47\n",
            "2         8     75       59\n",
            "3         9     70       70\n",
            "4        10     89       80\n"
          ]
        }
      ]
    },
    {
      "cell_type": "code",
      "source": [
        "#df1.append(df2) In both this command the list will be join accoring to the given command here df1 will come first and then df2\n",
        "#df2.append (df1) here df2 will come first and then df1"
      ],
      "metadata": {
        "id": "UCw3q1ZzqJT9"
      },
      "execution_count": null,
      "outputs": []
    },
    {
      "cell_type": "code",
      "source": [
        "#df1.append (df2, ignore_index=True, sort=True) Here it will print in contnuous index form and it will sort the list with sort function\n"
      ],
      "metadata": {
        "id": "xFTFN4bRrLXx"
      },
      "execution_count": null,
      "outputs": []
    },
    {
      "cell_type": "code",
      "source": [
        "df1 = pd.DataFrame({'Roll No.':[1,2,3,4,5], 'Chemistry':[45,78,78,76,98], 'Physics':[34,45,56,73,78]})\n",
        "df2 = pd.DataFrame({'Roll No.':[6,7,8,9,10], 'Maths':[43,70,75,70,89], 'Physics':[38,47,59,70,80]})\n",
        "print (df1)\n",
        "print (df2)"
      ],
      "metadata": {
        "colab": {
          "base_uri": "https://localhost:8080/"
        },
        "id": "n5tuH8Jhts0P",
        "outputId": "62e0b0e9-9e24-416f-d4fb-ce3acf7d58b2"
      },
      "execution_count": 12,
      "outputs": [
        {
          "output_type": "stream",
          "name": "stdout",
          "text": [
            "   Roll No.  Chemistry  Physics\n",
            "0         1         45       34\n",
            "1         2         78       45\n",
            "2         3         78       56\n",
            "3         4         76       73\n",
            "4         5         98       78\n",
            "   Roll No.  Maths  Physics\n",
            "0         6     43       38\n",
            "1         7     70       47\n",
            "2         8     75       59\n",
            "3         9     70       70\n",
            "4        10     89       80\n"
          ]
        }
      ]
    },
    {
      "cell_type": "code",
      "source": [
        "#df1.append(df2, ignore_index=True) here it will show 3 columns chemisrty , maths and physics and it will be null where the data is not there"
      ],
      "metadata": {
        "id": "KRWggV7juPJS"
      },
      "execution_count": null,
      "outputs": []
    },
    {
      "cell_type": "code",
      "source": [],
      "metadata": {
        "id": "QFaPAYMbupZP"
      },
      "execution_count": null,
      "outputs": []
    }
  ]
}