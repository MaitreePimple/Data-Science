{
  "nbformat": 4,
  "nbformat_minor": 0,
  "metadata": {
    "colab": {
      "provenance": [],
      "authorship_tag": "ABX9TyPWluc7AwWc/BIg2PHdWIRS",
      "include_colab_link": true
    },
    "kernelspec": {
      "name": "python3",
      "display_name": "Python 3"
    },
    "language_info": {
      "name": "python"
    }
  },
  "cells": [
    {
      "cell_type": "markdown",
      "metadata": {
        "id": "view-in-github",
        "colab_type": "text"
      },
      "source": [
        "<a href=\"https://colab.research.google.com/github/MaitreePimple/Data-Science/blob/main/Pandas_Part1(Lists_Dictionaries).ipynb\" target=\"_parent\"><img src=\"https://colab.research.google.com/assets/colab-badge.svg\" alt=\"Open In Colab\"/></a>"
      ]
    },
    {
      "cell_type": "markdown",
      "source": [
        "Pandas is a fast,powerful,flexible and easy to use opensource . data analysis\n",
        "and manipulation tool,built on top of the python programming language (basically used my data scientist)"
      ],
      "metadata": {
        "id": "pdy4DsCmnwzq"
      }
    },
    {
      "cell_type": "code",
      "execution_count": 2,
      "metadata": {
        "id": "PmI-VrOIm0Np"
      },
      "outputs": [],
      "source": [
        "import pandas as pd"
      ]
    },
    {
      "cell_type": "code",
      "source": [
        "pd.__version__"
      ],
      "metadata": {
        "colab": {
          "base_uri": "https://localhost:8080/",
          "height": 36
        },
        "id": "i0VZ8h0XoYkB",
        "outputId": "0b456f44-f297-4d52-8289-ec4ae61aa681"
      },
      "execution_count": 3,
      "outputs": [
        {
          "output_type": "execute_result",
          "data": {
            "text/plain": [
              "'2.0.3'"
            ],
            "application/vnd.google.colaboratory.intrinsic+json": {
              "type": "string"
            }
          },
          "metadata": {},
          "execution_count": 3
        }
      ]
    },
    {
      "cell_type": "markdown",
      "source": [
        "***PANDAS SERIES USING LIST ***"
      ],
      "metadata": {
        "id": "9GIJEr1DrxQH"
      }
    },
    {
      "cell_type": "code",
      "source": [
        "lst = [1,2,3,4,5,6]\n",
        "print(lst)"
      ],
      "metadata": {
        "colab": {
          "base_uri": "https://localhost:8080/"
        },
        "id": "McfqEH-nojcA",
        "outputId": "f9d7c349-5044-4dec-a2d5-8dcd0ffc72b0"
      },
      "execution_count": 4,
      "outputs": [
        {
          "output_type": "stream",
          "name": "stdout",
          "text": [
            "[1, 2, 3, 4, 5, 6]\n"
          ]
        }
      ]
    },
    {
      "cell_type": "code",
      "source": [
        "series = pd.Series(lst) #In series the index is also provided so its in series form\n",
        "print(series)\n",
        "print(type(series))"
      ],
      "metadata": {
        "colab": {
          "base_uri": "https://localhost:8080/"
        },
        "id": "MJ_bn4JiovJg",
        "outputId": "5b786fb1-3146-478e-cb27-0a9fddd8dabd"
      },
      "execution_count": 5,
      "outputs": [
        {
          "output_type": "stream",
          "name": "stdout",
          "text": [
            "0    1\n",
            "1    2\n",
            "2    3\n",
            "3    4\n",
            "4    5\n",
            "5    6\n",
            "dtype: int64\n",
            "<class 'pandas.core.series.Series'>\n"
          ]
        }
      ]
    },
    {
      "cell_type": "code",
      "source": [
        "empty = pd.Series([]) #printing an empty series\n",
        "print(empty)"
      ],
      "metadata": {
        "colab": {
          "base_uri": "https://localhost:8080/"
        },
        "id": "hwVoFIJlo8H-",
        "outputId": "b5f4e088-8cc9-446d-f74d-345cca0d3db7"
      },
      "execution_count": 6,
      "outputs": [
        {
          "output_type": "stream",
          "name": "stdout",
          "text": [
            "Series([], dtype: object)\n"
          ]
        }
      ]
    },
    {
      "cell_type": "code",
      "source": [
        "a = pd.Series(['M','A','I','T','R','E','E'], index = [1,2,3,4,5,6,7]) #printing your own customisted index\n",
        "a"
      ],
      "metadata": {
        "colab": {
          "base_uri": "https://localhost:8080/"
        },
        "id": "tHNfOenRptF9",
        "outputId": "e86d381c-ba94-4433-8697-442a236b609d"
      },
      "execution_count": 7,
      "outputs": [
        {
          "output_type": "execute_result",
          "data": {
            "text/plain": [
              "1    M\n",
              "2    A\n",
              "3    I\n",
              "4    T\n",
              "5    R\n",
              "6    E\n",
              "7    E\n",
              "dtype: object"
            ]
          },
          "metadata": {},
          "execution_count": 7
        }
      ]
    },
    {
      "cell_type": "code",
      "source": [
        "b = pd.Series(['M','A','I','T','R','E','E'], index = [1,2,3,4,5,6,7], name = 'Name')\n",
        "b #Name is given to the series"
      ],
      "metadata": {
        "colab": {
          "base_uri": "https://localhost:8080/"
        },
        "id": "CN134U6Nqb3L",
        "outputId": "e02ca249-8312-49bc-c8a0-13287ecd2615"
      },
      "execution_count": 9,
      "outputs": [
        {
          "output_type": "execute_result",
          "data": {
            "text/plain": [
              "1    M\n",
              "2    A\n",
              "3    I\n",
              "4    T\n",
              "5    R\n",
              "6    E\n",
              "7    E\n",
              "Name: Name, dtype: object"
            ]
          },
          "metadata": {},
          "execution_count": 9
        }
      ]
    },
    {
      "cell_type": "code",
      "source": [
        "scalar_series = pd.Series(100)\n",
        "scalar_series #scalar values are single values like integers, floats, or strings."
      ],
      "metadata": {
        "colab": {
          "base_uri": "https://localhost:8080/"
        },
        "id": "osQQGN4xq-IJ",
        "outputId": "792e3ea6-bab8-44d1-b22f-6df65d0db216"
      },
      "execution_count": 11,
      "outputs": [
        {
          "output_type": "execute_result",
          "data": {
            "text/plain": [
              "0    100\n",
              "dtype: int64"
            ]
          },
          "metadata": {},
          "execution_count": 11
        }
      ]
    },
    {
      "cell_type": "code",
      "source": [
        "scalar_series = pd.Series(100,index=[1,2,3])\n",
        "scalar_series"
      ],
      "metadata": {
        "colab": {
          "base_uri": "https://localhost:8080/"
        },
        "id": "4BePBrlgrbhr",
        "outputId": "2a42d388-367d-4875-a1a5-dd29b9edd808"
      },
      "execution_count": 12,
      "outputs": [
        {
          "output_type": "execute_result",
          "data": {
            "text/plain": [
              "1    100\n",
              "2    100\n",
              "3    100\n",
              "dtype: int64"
            ]
          },
          "metadata": {},
          "execution_count": 12
        }
      ]
    },
    {
      "cell_type": "markdown",
      "source": [
        "***PANDAS SERIES USING DICTIONARY***"
      ],
      "metadata": {
        "id": "76-3dNh0r24h"
      }
    },
    {
      "cell_type": "code",
      "source": [
        "dict_series = pd.Series({'a':1,'b':2,'c':3})\n",
        "dict_series"
      ],
      "metadata": {
        "colab": {
          "base_uri": "https://localhost:8080/"
        },
        "id": "1O9clFeOruBt",
        "outputId": "fd5d7130-21cb-42ca-daf2-bfc69c9ceb25"
      },
      "execution_count": 13,
      "outputs": [
        {
          "output_type": "execute_result",
          "data": {
            "text/plain": [
              "a    1\n",
              "b    2\n",
              "c    3\n",
              "dtype: int64"
            ]
          },
          "metadata": {},
          "execution_count": 13
        }
      ]
    },
    {
      "cell_type": "code",
      "source": [
        "dict_series = pd.Series({'M':1,'A':2,'I':3,'T':4,'R':5,'E':6,'E':7})\n",
        "dict_series #dictionary is basically like key and value key is MAITREE here and value 1,2,3,4,5,6,7.."
      ],
      "metadata": {
        "colab": {
          "base_uri": "https://localhost:8080/"
        },
        "id": "zIGQGUECsMSA",
        "outputId": "3e317aa6-b1df-487e-ce43-09c5554f6960"
      },
      "execution_count": 15,
      "outputs": [
        {
          "output_type": "execute_result",
          "data": {
            "text/plain": [
              "M    1\n",
              "A    2\n",
              "I    3\n",
              "T    4\n",
              "R    5\n",
              "E    7\n",
              "dtype: int64"
            ]
          },
          "metadata": {},
          "execution_count": 15
        }
      ]
    },
    {
      "cell_type": "code",
      "source": [
        "dict_series[0] #IT PRINTS THE VALUE AT 0 POSTION"
      ],
      "metadata": {
        "colab": {
          "base_uri": "https://localhost:8080/"
        },
        "id": "v6uQE2EEsqoU",
        "outputId": "c029ea48-00c8-4505-f1b3-c9784cb0669a"
      },
      "execution_count": 17,
      "outputs": [
        {
          "output_type": "execute_result",
          "data": {
            "text/plain": [
              "1"
            ]
          },
          "metadata": {},
          "execution_count": 17
        }
      ]
    },
    {
      "cell_type": "code",
      "source": [
        "dict_series[2]"
      ],
      "metadata": {
        "colab": {
          "base_uri": "https://localhost:8080/"
        },
        "id": "12MT7Fvas-i5",
        "outputId": "b72e558a-1369-424e-8946-76ec90c63d5b"
      },
      "execution_count": 18,
      "outputs": [
        {
          "output_type": "execute_result",
          "data": {
            "text/plain": [
              "3"
            ]
          },
          "metadata": {},
          "execution_count": 18
        }
      ]
    },
    {
      "cell_type": "code",
      "source": [
        "dict_series['M'] #IT PRINTED THE INDEXED VALUE OF M"
      ],
      "metadata": {
        "colab": {
          "base_uri": "https://localhost:8080/"
        },
        "id": "vfx5ictjtNLF",
        "outputId": "b129082a-26d2-4164-9443-ab1e67505a34"
      },
      "execution_count": 19,
      "outputs": [
        {
          "output_type": "execute_result",
          "data": {
            "text/plain": [
              "1"
            ]
          },
          "metadata": {},
          "execution_count": 19
        }
      ]
    },
    {
      "cell_type": "code",
      "source": [
        "dict_series[0:3]"
      ],
      "metadata": {
        "colab": {
          "base_uri": "https://localhost:8080/"
        },
        "id": "IBgfWlF9tSlY",
        "outputId": "260b8b23-4cd7-4c72-e7a7-f33cc14857c1"
      },
      "execution_count": 20,
      "outputs": [
        {
          "output_type": "execute_result",
          "data": {
            "text/plain": [
              "M    1\n",
              "A    2\n",
              "I    3\n",
              "dtype: int64"
            ]
          },
          "metadata": {},
          "execution_count": 20
        }
      ]
    },
    {
      "cell_type": "code",
      "source": [
        "max(dict_series)"
      ],
      "metadata": {
        "colab": {
          "base_uri": "https://localhost:8080/"
        },
        "id": "_tHAC654tiFi",
        "outputId": "4e1473d5-d964-4230-ae45-b8cb818d2eac"
      },
      "execution_count": 21,
      "outputs": [
        {
          "output_type": "execute_result",
          "data": {
            "text/plain": [
              "7"
            ]
          },
          "metadata": {},
          "execution_count": 21
        }
      ]
    },
    {
      "cell_type": "code",
      "source": [
        "min(dict_series)"
      ],
      "metadata": {
        "colab": {
          "base_uri": "https://localhost:8080/"
        },
        "id": "pIW7w6_WttAL",
        "outputId": "d34ddecc-d4c3-4e56-fafc-7e93bfb15e8e"
      },
      "execution_count": 22,
      "outputs": [
        {
          "output_type": "execute_result",
          "data": {
            "text/plain": [
              "1"
            ]
          },
          "metadata": {},
          "execution_count": 22
        }
      ]
    },
    {
      "cell_type": "code",
      "source": [
        "dict_series = pd.Series({'M':[1,2,3],'A':[4,5,6],'I':[7,8,9],'T':[10,11,12],'R':[13,14,15],'E':[16,17,18]})\n",
        "dict_series #here we have increased the columns values  (we have combined list and dic together)"
      ],
      "metadata": {
        "colab": {
          "base_uri": "https://localhost:8080/"
        },
        "id": "WyWiH4J0ty-z",
        "outputId": "937add9f-7210-45b4-c42e-8c212f801a99"
      },
      "execution_count": 25,
      "outputs": [
        {
          "output_type": "execute_result",
          "data": {
            "text/plain": [
              "M       [1, 2, 3]\n",
              "A       [4, 5, 6]\n",
              "I       [7, 8, 9]\n",
              "T    [10, 11, 12]\n",
              "R    [13, 14, 15]\n",
              "E    [16, 17, 18]\n",
              "dtype: object"
            ]
          },
          "metadata": {},
          "execution_count": 25
        }
      ]
    },
    {
      "cell_type": "markdown",
      "source": [],
      "metadata": {
        "id": "M86BQ76KuWJa"
      }
    },
    {
      "cell_type": "markdown",
      "source": [],
      "metadata": {
        "id": "85bUWLSjuWHk"
      }
    },
    {
      "cell_type": "code",
      "source": [],
      "metadata": {
        "id": "aTcLpsafuVmP"
      },
      "execution_count": null,
      "outputs": []
    }
  ]
}