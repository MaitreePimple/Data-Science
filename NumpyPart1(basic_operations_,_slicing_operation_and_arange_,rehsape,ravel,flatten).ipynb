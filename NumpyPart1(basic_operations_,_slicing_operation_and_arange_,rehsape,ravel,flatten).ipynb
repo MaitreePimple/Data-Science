{
  "nbformat": 4,
  "nbformat_minor": 0,
  "metadata": {
    "colab": {
      "provenance": [],
      "authorship_tag": "ABX9TyNMpGdhFTEQJW7fPg+y6DVj",
      "include_colab_link": true
    },
    "kernelspec": {
      "name": "python3",
      "display_name": "Python 3"
    },
    "language_info": {
      "name": "python"
    }
  },
  "cells": [
    {
      "cell_type": "markdown",
      "metadata": {
        "id": "view-in-github",
        "colab_type": "text"
      },
      "source": [
        "<a href=\"https://colab.research.google.com/github/MaitreePimple/Data-Science/blob/main/NumpyPart1(basic_operations_%2C_slicing_operation_and_arange_%2Crehsape%2Cravel%2Cflatten).ipynb\" target=\"_parent\"><img src=\"https://colab.research.google.com/assets/colab-badge.svg\" alt=\"Open In Colab\"/></a>"
      ]
    },
    {
      "cell_type": "code",
      "execution_count": null,
      "metadata": {
        "id": "zcRwI1OoYn5w"
      },
      "outputs": [],
      "source": [
        "import numpy as np"
      ]
    },
    {
      "cell_type": "code",
      "source": [
        "lst = [1,2,3,4,5] #in python list it can store only one deminision array in it of any type but by using numpy we can store multiple deminision array\n",
        "print(lst)"
      ],
      "metadata": {
        "colab": {
          "base_uri": "https://localhost:8080/"
        },
        "id": "IWDeR2h_Y5lg",
        "outputId": "1de09f6c-0e7b-449a-ff35-df272f22889b"
      },
      "execution_count": null,
      "outputs": [
        {
          "output_type": "stream",
          "name": "stdout",
          "text": [
            "[1, 2, 3, 4, 5]\n"
          ]
        }
      ]
    },
    {
      "cell_type": "code",
      "source": [
        "print ('1D ARRAY')\n",
        "a = np.array([1,2,3,4,50])\n",
        "print(a)\n",
        "\n",
        "#-------------------------------------\n",
        "\n",
        "print('2D ARRAY')\n",
        "b = np.array([[1,2],[6,7]])\n",
        "print(b)\n",
        "\n",
        "#----------------------------------------\n",
        "\n",
        "print('3D ARRAY')\n",
        "c = np.array([[1,2,3],[4,5,6],[7,8,9]])\n",
        "print(c)\n",
        "\n",
        "#-------------------------------------------\n",
        "\n",
        "print('4D ARRAY')\n",
        "d = np.array([[1,2,3,4],[3,4,5,6],[5,6,7,8],[7,8,9,10]])\n",
        "print(d)"
      ],
      "metadata": {
        "colab": {
          "base_uri": "https://localhost:8080/"
        },
        "id": "ZbLFTiDBZY5N",
        "outputId": "3a6d26e1-6937-4d34-bb73-01cc7eefadc0"
      },
      "execution_count": null,
      "outputs": [
        {
          "output_type": "stream",
          "name": "stdout",
          "text": [
            "1D ARRAY\n",
            "[ 1  2  3  4 50]\n",
            "2D ARRAY\n",
            "[[1 2]\n",
            " [6 7]]\n",
            "3D ARRAY\n",
            "[[1 2 3]\n",
            " [4 5 6]\n",
            " [7 8 9]]\n",
            "4D ARRAY\n",
            "[[ 1  2  3  4]\n",
            " [ 3  4  5  6]\n",
            " [ 5  6  7  8]\n",
            " [ 7  8  9 10]]\n"
          ]
        }
      ]
    },
    {
      "cell_type": "code",
      "source": [
        "type(a) #type of data"
      ],
      "metadata": {
        "colab": {
          "base_uri": "https://localhost:8080/"
        },
        "id": "25DOXRXjZnOn",
        "outputId": "c5cec03b-5ba6-4a80-ec32-3e8411ed2998"
      },
      "execution_count": null,
      "outputs": [
        {
          "output_type": "execute_result",
          "data": {
            "text/plain": [
              "numpy.ndarray"
            ]
          },
          "metadata": {},
          "execution_count": 10
        }
      ]
    },
    {
      "cell_type": "code",
      "source": [
        "print(a.size)\n",
        "print(b.size)\n",
        "print(c.size)\n",
        "print(d.size)\n",
        "#SIZE GIVE NUMBER OF ELEMNETS PRESENT IN ARRAY"
      ],
      "metadata": {
        "colab": {
          "base_uri": "https://localhost:8080/"
        },
        "id": "1hgV4yq2bQj6",
        "outputId": "ea933530-5e52-4de1-c6ec-75553b4ffe33"
      },
      "execution_count": null,
      "outputs": [
        {
          "output_type": "stream",
          "name": "stdout",
          "text": [
            "5\n",
            "4\n",
            "9\n",
            "16\n"
          ]
        }
      ]
    },
    {
      "cell_type": "code",
      "source": [
        "#shape = (rows,columns)\n",
        "print(a.shape)\n",
        "print(b.shape)\n",
        "print(c.shape)\n",
        "print(d.shape)"
      ],
      "metadata": {
        "colab": {
          "base_uri": "https://localhost:8080/"
        },
        "id": "DHWtYg5EbekK",
        "outputId": "0a2b0627-d779-4040-8f74-01986b8f12d7"
      },
      "execution_count": null,
      "outputs": [
        {
          "output_type": "stream",
          "name": "stdout",
          "text": [
            "(5,)\n",
            "(2, 2)\n",
            "(3, 3)\n",
            "(4, 4)\n"
          ]
        }
      ]
    },
    {
      "cell_type": "code",
      "source": [
        "#dtype = TYPE OF DATA PRSENT IN THE ARRAY\n",
        "\n",
        "print(a.dtype)\n",
        "print(b.dtype)\n",
        "print(c.dtype)\n",
        "print(d.dtype)"
      ],
      "metadata": {
        "colab": {
          "base_uri": "https://localhost:8080/"
        },
        "id": "bGaXut8lchuN",
        "outputId": "651e117a-1538-4ef1-d020-b5b3354aa564"
      },
      "execution_count": null,
      "outputs": [
        {
          "output_type": "stream",
          "name": "stdout",
          "text": [
            "int64\n",
            "int64\n",
            "int64\n",
            "int64\n"
          ]
        }
      ]
    },
    {
      "cell_type": "code",
      "source": [
        "e = np.array([[1,2,3,4.2,5],[6,7,8.9,9,10],[11,12,13,14,15]])\n",
        "print(e.dtype)"
      ],
      "metadata": {
        "colab": {
          "base_uri": "https://localhost:8080/"
        },
        "id": "nJGyPnuqg-9k",
        "outputId": "21acd7b0-8b01-447c-8383-4fb083c8ef1f"
      },
      "execution_count": null,
      "outputs": [
        {
          "output_type": "stream",
          "name": "stdout",
          "text": [
            "float64\n"
          ]
        }
      ]
    },
    {
      "cell_type": "code",
      "source": [
        "#arr.transpose() IT REPLACE ROWS INTO COLUMNS AND COLUMNS INTO ROWS\n",
        "#a.transpose() //array([ 1,  2,  3,  4, 50])\n",
        "#b.transpose()  //array([[1, 6],[2, 7]])\n",
        "#c.transpose() //array([[1, 4, 7],[2, 5, 8],[3, 6, 9]])\n",
        "#d.transpose()  //array([[ 1,  3,  5,  7],[ 2,  4,  6,  8],[ 3,  5,  7,  9], [ 4,  6,  8, 10]])\n",
        "#e.transpose() //array([[ 1. ,  6. , 11. ],[ 2. ,  7. , 12. ],[ 3. ,  8.9, 13. ],[ 4.2,  9. , 14. ],[ 5. , 10. , 15. ]])\n",
        "\n",
        "\n",
        "\n"
      ],
      "metadata": {
        "colab": {
          "base_uri": "https://localhost:8080/"
        },
        "id": "ahmx_nkShwZh",
        "outputId": "8457d742-977f-4263-afed-e531d3fc25b6"
      },
      "execution_count": null,
      "outputs": [
        {
          "output_type": "execute_result",
          "data": {
            "text/plain": [
              "array([[ 1. ,  6. , 11. ],\n",
              "       [ 2. ,  7. , 12. ],\n",
              "       [ 3. ,  8.9, 13. ],\n",
              "       [ 4.2,  9. , 14. ],\n",
              "       [ 5. , 10. , 15. ]])"
            ]
          },
          "metadata": {},
          "execution_count": 27
        }
      ]
    },
    {
      "cell_type": "code",
      "source": [
        "#np.empty((rows,cols),dtype) // (rows,cols) is called as tuple  (in these we get empty array with random numbers)\n",
        "\n",
        "#np.empty((2,3),dtype=int)\n",
        "np.empty((4,4),dtype=float)"
      ],
      "metadata": {
        "colab": {
          "base_uri": "https://localhost:8080/"
        },
        "id": "8e19z29cjBEp",
        "outputId": "8212532e-fd81-45f1-d9b8-438bdc09e94c"
      },
      "execution_count": null,
      "outputs": [
        {
          "output_type": "execute_result",
          "data": {
            "text/plain": [
              "array([[4.9e-324, 9.9e-324, 1.5e-323, 2.0e-323],\n",
              "       [1.5e-323, 2.0e-323, 2.5e-323, 3.0e-323],\n",
              "       [2.5e-323, 3.0e-323, 3.5e-323, 4.0e-323],\n",
              "       [3.5e-323, 4.0e-323, 4.4e-323, 4.9e-323]])"
            ]
          },
          "metadata": {},
          "execution_count": 30
        }
      ]
    },
    {
      "cell_type": "code",
      "source": [
        "#np.ones((rows,cols),dtype)\n",
        "\n",
        "#np.ones((2,3),dtype=int)\n",
        "#x = np.ones((3,4),dtype=float)\n",
        "#z\n",
        "#y = np.ones(6)\n",
        "#y\n",
        "#z = np.ones((2,3),dtype=int)\n",
        "#z"
      ],
      "metadata": {
        "colab": {
          "base_uri": "https://localhost:8080/"
        },
        "id": "XJwhpiJ_lGgp",
        "outputId": "a81b42f1-5c18-40fc-ad28-86bab35c688f"
      },
      "execution_count": null,
      "outputs": [
        {
          "output_type": "execute_result",
          "data": {
            "text/plain": [
              "array([[1, 1, 1],\n",
              "       [1, 1, 1]])"
            ]
          },
          "metadata": {},
          "execution_count": 38
        }
      ]
    },
    {
      "cell_type": "code",
      "source": [
        "#np.zeros((rows,columns),dtype)\n",
        "\n",
        "#x = np.zeros(4)\n",
        "#x\n",
        "#y = np.zeros((4,8), dtype = int)\n",
        "#y\n",
        "#z = np.ones((4,8),dtype=str)\n",
        "#z\n",
        "\n",
        "#z = np.ones((4,8),dtype = bool)\n",
        "#z"
      ],
      "metadata": {
        "colab": {
          "base_uri": "https://localhost:8080/"
        },
        "id": "wtBkUuo9l2I3",
        "outputId": "d8da4e9e-7079-42de-83fe-f6c083e33535"
      },
      "execution_count": null,
      "outputs": [
        {
          "output_type": "execute_result",
          "data": {
            "text/plain": [
              "array([[ True,  True,  True,  True,  True,  True,  True,  True],\n",
              "       [ True,  True,  True,  True,  True,  True,  True,  True],\n",
              "       [ True,  True,  True,  True,  True,  True,  True,  True],\n",
              "       [ True,  True,  True,  True,  True,  True,  True,  True]])"
            ]
          },
          "metadata": {},
          "execution_count": 44
        }
      ]
    },
    {
      "cell_type": "code",
      "source": [
        "#np.arange (start,end,step) ITS LIKE A LOOP WHICH PRINTS THE VALUE VALUE GIVEN IN PATICULAR RANGE\n",
        "\n",
        "import numpy as np\n",
        "a = np.arange(1,20)\n",
        "print(a)"
      ],
      "metadata": {
        "id": "BAas-NjWpstT",
        "colab": {
          "base_uri": "https://localhost:8080/"
        },
        "outputId": "e535f7d1-edcd-4b4a-ebea-2d9c0c1192cd"
      },
      "execution_count": 1,
      "outputs": [
        {
          "output_type": "stream",
          "name": "stdout",
          "text": [
            "[ 1  2  3  4  5  6  7  8  9 10 11 12 13 14 15 16 17 18 19]\n"
          ]
        }
      ]
    },
    {
      "cell_type": "code",
      "source": [
        "a = np.arange(1,20,2) #odd series\n",
        "print(a)"
      ],
      "metadata": {
        "colab": {
          "base_uri": "https://localhost:8080/"
        },
        "id": "w-KdWRGN-02t",
        "outputId": "a088a3a7-d8c0-47a5-81ef-e76ec6350d4e"
      },
      "execution_count": 2,
      "outputs": [
        {
          "output_type": "stream",
          "name": "stdout",
          "text": [
            "[ 1  3  5  7  9 11 13 15 17 19]\n"
          ]
        }
      ]
    },
    {
      "cell_type": "code",
      "source": [
        "a = np.arange(2,20,2) #Even series\n",
        "print(a)"
      ],
      "metadata": {
        "colab": {
          "base_uri": "https://localhost:8080/"
        },
        "id": "i_hdtQgy_AAy",
        "outputId": "b365891f-01b9-4d94-cf7d-e51c24d71fac"
      },
      "execution_count": 8,
      "outputs": [
        {
          "output_type": "stream",
          "name": "stdout",
          "text": [
            "[ 2  4  6  8 10 12 14 16 18]\n"
          ]
        }
      ]
    },
    {
      "cell_type": "markdown",
      "source": [
        "arr.reshape((rows,cols)) : It helps in reshaping the array"
      ],
      "metadata": {
        "id": "50sRrqzc_frl"
      }
    },
    {
      "cell_type": "code",
      "source": [
        "a = a.reshape((3,3))\n",
        "a"
      ],
      "metadata": {
        "colab": {
          "base_uri": "https://localhost:8080/"
        },
        "id": "Sfv8DAlk_M4i",
        "outputId": "8cd87c09-1fac-4d9f-978c-8d68a4369238"
      },
      "execution_count": 9,
      "outputs": [
        {
          "output_type": "execute_result",
          "data": {
            "text/plain": [
              "array([[ 2,  4,  6],\n",
              "       [ 8, 10, 12],\n",
              "       [14, 16, 18]])"
            ]
          },
          "metadata": {},
          "execution_count": 9
        }
      ]
    },
    {
      "cell_type": "code",
      "source": [
        "b = np.arange(1,100,2)\n",
        "print(b)"
      ],
      "metadata": {
        "colab": {
          "base_uri": "https://localhost:8080/"
        },
        "id": "xcB6mr0a_qVT",
        "outputId": "f33df359-3533-44c5-cd74-556e98722c4f"
      },
      "execution_count": 14,
      "outputs": [
        {
          "output_type": "stream",
          "name": "stdout",
          "text": [
            "[ 1  3  5  7  9 11 13 15 17 19 21 23 25 27 29 31 33 35 37 39 41 43 45 47\n",
            " 49 51 53 55 57 59 61 63 65 67 69 71 73 75 77 79 81 83 85 87 89 91 93 95\n",
            " 97 99]\n"
          ]
        }
      ]
    },
    {
      "cell_type": "code",
      "source": [
        "b = b.reshape((10,5))\n",
        "b"
      ],
      "metadata": {
        "colab": {
          "base_uri": "https://localhost:8080/"
        },
        "id": "4wDNsafEAUm8",
        "outputId": "e8195eb9-5665-4d2a-a36a-7d0063104fd4"
      },
      "execution_count": 15,
      "outputs": [
        {
          "output_type": "execute_result",
          "data": {
            "text/plain": [
              "array([[ 1,  3,  5,  7,  9],\n",
              "       [11, 13, 15, 17, 19],\n",
              "       [21, 23, 25, 27, 29],\n",
              "       [31, 33, 35, 37, 39],\n",
              "       [41, 43, 45, 47, 49],\n",
              "       [51, 53, 55, 57, 59],\n",
              "       [61, 63, 65, 67, 69],\n",
              "       [71, 73, 75, 77, 79],\n",
              "       [81, 83, 85, 87, 89],\n",
              "       [91, 93, 95, 97, 99]])"
            ]
          },
          "metadata": {},
          "execution_count": 15
        }
      ]
    },
    {
      "cell_type": "markdown",
      "source": [
        "flatten : 1. reverse the effect of reshape. 2. returns only copy of the original array . 3. slower then ravel and 4 Flatten is a method of an ndarray object"
      ],
      "metadata": {
        "id": "opTYqrETAzL1"
      }
    },
    {
      "cell_type": "code",
      "source": [
        "b = b.flatten()\n",
        "b"
      ],
      "metadata": {
        "colab": {
          "base_uri": "https://localhost:8080/"
        },
        "id": "3jTcjpZVAfwm",
        "outputId": "ff491a06-7a29-4c90-8c27-14fb8581866e"
      },
      "execution_count": 16,
      "outputs": [
        {
          "output_type": "execute_result",
          "data": {
            "text/plain": [
              "array([ 1,  3,  5,  7,  9, 11, 13, 15, 17, 19, 21, 23, 25, 27, 29, 31, 33,\n",
              "       35, 37, 39, 41, 43, 45, 47, 49, 51, 53, 55, 57, 59, 61, 63, 65, 67,\n",
              "       69, 71, 73, 75, 77, 79, 81, 83, 85, 87, 89, 91, 93, 95, 97, 99])"
            ]
          },
          "metadata": {},
          "execution_count": 16
        }
      ]
    },
    {
      "cell_type": "markdown",
      "source": [
        "a.ravel : 1 return only reference / view of original array . 2 If you modify the array youwould notice that the value of original array also changes . 3 Ravel is faster that flatten() as it does not occupy any memory .4 Ravel is a library - Level Function ."
      ],
      "metadata": {
        "id": "0UHqdXhiBZr2"
      }
    },
    {
      "cell_type": "code",
      "source": [
        "a = a.ravel()\n",
        "a"
      ],
      "metadata": {
        "colab": {
          "base_uri": "https://localhost:8080/"
        },
        "id": "2kmiAG71BHEA",
        "outputId": "0a29ffb8-97a2-4bd3-b1d0-ebed65f887b9"
      },
      "execution_count": 17,
      "outputs": [
        {
          "output_type": "execute_result",
          "data": {
            "text/plain": [
              "array([ 2,  4,  6,  8, 10, 12, 14, 16, 18])"
            ]
          },
          "metadata": {},
          "execution_count": 17
        }
      ]
    },
    {
      "cell_type": "markdown",
      "source": [
        "ARRAY SLICING OPERATION"
      ],
      "metadata": {
        "id": "ig2sZ0yCC5Q8"
      }
    },
    {
      "cell_type": "code",
      "source": [
        "a = np.arange(1,51)\n",
        "a = a.reshape(10,5)\n",
        "print (a)"
      ],
      "metadata": {
        "colab": {
          "base_uri": "https://localhost:8080/"
        },
        "id": "c494cSGNCj8v",
        "outputId": "7e2e7509-8dbf-4bcf-f993-02ce6b820a20"
      },
      "execution_count": 18,
      "outputs": [
        {
          "output_type": "stream",
          "name": "stdout",
          "text": [
            "[[ 1  2  3  4  5]\n",
            " [ 6  7  8  9 10]\n",
            " [11 12 13 14 15]\n",
            " [16 17 18 19 20]\n",
            " [21 22 23 24 25]\n",
            " [26 27 28 29 30]\n",
            " [31 32 33 34 35]\n",
            " [36 37 38 39 40]\n",
            " [41 42 43 44 45]\n",
            " [46 47 48 49 50]]\n"
          ]
        }
      ]
    },
    {
      "cell_type": "code",
      "source": [
        "a[0]"
      ],
      "metadata": {
        "colab": {
          "base_uri": "https://localhost:8080/"
        },
        "id": "9bbDmYF2DRrY",
        "outputId": "ae5d230c-9985-424e-a982-10d7bc18c7ac"
      },
      "execution_count": 19,
      "outputs": [
        {
          "output_type": "execute_result",
          "data": {
            "text/plain": [
              "array([1, 2, 3, 4, 5])"
            ]
          },
          "metadata": {},
          "execution_count": 19
        }
      ]
    },
    {
      "cell_type": "code",
      "source": [
        "a[1,2]"
      ],
      "metadata": {
        "colab": {
          "base_uri": "https://localhost:8080/"
        },
        "id": "tFeoVJquDaR9",
        "outputId": "daace8bd-22f0-47cb-fe4c-89fa48850cf6"
      },
      "execution_count": 20,
      "outputs": [
        {
          "output_type": "execute_result",
          "data": {
            "text/plain": [
              "8"
            ]
          },
          "metadata": {},
          "execution_count": 20
        }
      ]
    },
    {
      "cell_type": "code",
      "source": [
        "a[2,4]"
      ],
      "metadata": {
        "colab": {
          "base_uri": "https://localhost:8080/"
        },
        "id": "bkyGKJaoDcKV",
        "outputId": "92c63dbc-c3f6-4361-fece-b77c8d702f41"
      },
      "execution_count": 21,
      "outputs": [
        {
          "output_type": "execute_result",
          "data": {
            "text/plain": [
              "15"
            ]
          },
          "metadata": {},
          "execution_count": 21
        }
      ]
    },
    {
      "cell_type": "code",
      "source": [
        "a[2]"
      ],
      "metadata": {
        "colab": {
          "base_uri": "https://localhost:8080/"
        },
        "id": "oYELctSjDf8n",
        "outputId": "fb68a04e-d0c6-43e5-babd-eb1c6be83751"
      },
      "execution_count": 23,
      "outputs": [
        {
          "output_type": "execute_result",
          "data": {
            "text/plain": [
              "array([11, 12, 13, 14, 15])"
            ]
          },
          "metadata": {},
          "execution_count": 23
        }
      ]
    },
    {
      "cell_type": "code",
      "source": [
        "a[2:5]"
      ],
      "metadata": {
        "colab": {
          "base_uri": "https://localhost:8080/"
        },
        "id": "-QJVEfTLDoEb",
        "outputId": "971f26c5-b9f8-4cc6-b31b-4df3a7033a68"
      },
      "execution_count": 24,
      "outputs": [
        {
          "output_type": "execute_result",
          "data": {
            "text/plain": [
              "array([[11, 12, 13, 14, 15],\n",
              "       [16, 17, 18, 19, 20],\n",
              "       [21, 22, 23, 24, 25]])"
            ]
          },
          "metadata": {},
          "execution_count": 24
        }
      ]
    },
    {
      "cell_type": "code",
      "source": [
        "a[0:10]"
      ],
      "metadata": {
        "colab": {
          "base_uri": "https://localhost:8080/"
        },
        "id": "LpOoj77RDxMU",
        "outputId": "bdefc6fd-2561-450d-fda7-ddb340a5089b"
      },
      "execution_count": 25,
      "outputs": [
        {
          "output_type": "execute_result",
          "data": {
            "text/plain": [
              "array([[ 1,  2,  3,  4,  5],\n",
              "       [ 6,  7,  8,  9, 10],\n",
              "       [11, 12, 13, 14, 15],\n",
              "       [16, 17, 18, 19, 20],\n",
              "       [21, 22, 23, 24, 25],\n",
              "       [26, 27, 28, 29, 30],\n",
              "       [31, 32, 33, 34, 35],\n",
              "       [36, 37, 38, 39, 40],\n",
              "       [41, 42, 43, 44, 45],\n",
              "       [46, 47, 48, 49, 50]])"
            ]
          },
          "metadata": {},
          "execution_count": 25
        }
      ]
    },
    {
      "cell_type": "code",
      "source": [
        "a[:,2]"
      ],
      "metadata": {
        "colab": {
          "base_uri": "https://localhost:8080/"
        },
        "id": "f6ImLXAPD3Rm",
        "outputId": "82981c32-93b1-404e-db54-343cc84c0486"
      },
      "execution_count": 28,
      "outputs": [
        {
          "output_type": "execute_result",
          "data": {
            "text/plain": [
              "array([ 3,  8, 13, 18, 23, 28, 33, 38, 43, 48])"
            ]
          },
          "metadata": {},
          "execution_count": 28
        }
      ]
    },
    {
      "cell_type": "code",
      "source": [
        "a[:,3]"
      ],
      "metadata": {
        "colab": {
          "base_uri": "https://localhost:8080/"
        },
        "id": "vV2qluL5EP1U",
        "outputId": "368a9c1d-43f6-4ba7-925a-6ab9c7d2f3eb"
      },
      "execution_count": 30,
      "outputs": [
        {
          "output_type": "execute_result",
          "data": {
            "text/plain": [
              "array([ 4,  9, 14, 19, 24, 29, 34, 39, 44, 49])"
            ]
          },
          "metadata": {},
          "execution_count": 30
        }
      ]
    },
    {
      "cell_type": "code",
      "source": [
        "a[:,2]"
      ],
      "metadata": {
        "colab": {
          "base_uri": "https://localhost:8080/"
        },
        "id": "DGwCn1w7EaZq",
        "outputId": "f7aae79f-5d5f-4581-f235-88381309261b"
      },
      "execution_count": 33,
      "outputs": [
        {
          "output_type": "execute_result",
          "data": {
            "text/plain": [
              "array([ 3,  8, 13, 18, 23, 28, 33, 38, 43, 48])"
            ]
          },
          "metadata": {},
          "execution_count": 33
        }
      ]
    },
    {
      "cell_type": "code",
      "source": [
        "a[:,2:5]"
      ],
      "metadata": {
        "colab": {
          "base_uri": "https://localhost:8080/"
        },
        "id": "hFAFAvo_FBN9",
        "outputId": "f134e74a-ded6-4c96-bcd9-bd286967dde8"
      },
      "execution_count": 36,
      "outputs": [
        {
          "output_type": "execute_result",
          "data": {
            "text/plain": [
              "array([[ 3,  4,  5],\n",
              "       [ 8,  9, 10],\n",
              "       [13, 14, 15],\n",
              "       [18, 19, 20],\n",
              "       [23, 24, 25],\n",
              "       [28, 29, 30],\n",
              "       [33, 34, 35],\n",
              "       [38, 39, 40],\n",
              "       [43, 44, 45],\n",
              "       [48, 49, 50]])"
            ]
          },
          "metadata": {},
          "execution_count": 36
        }
      ]
    },
    {
      "cell_type": "code",
      "source": [
        "a[2:5,2:5].dtype"
      ],
      "metadata": {
        "colab": {
          "base_uri": "https://localhost:8080/"
        },
        "id": "_nrQI-vfFQAl",
        "outputId": "e836afb3-4443-44f2-a2d0-35805f8f6bae"
      },
      "execution_count": 37,
      "outputs": [
        {
          "output_type": "execute_result",
          "data": {
            "text/plain": [
              "dtype('int64')"
            ]
          },
          "metadata": {},
          "execution_count": 37
        }
      ]
    },
    {
      "cell_type": "code",
      "source": [],
      "metadata": {
        "id": "W-83tWekFtPJ"
      },
      "execution_count": null,
      "outputs": []
    }
  ]
}