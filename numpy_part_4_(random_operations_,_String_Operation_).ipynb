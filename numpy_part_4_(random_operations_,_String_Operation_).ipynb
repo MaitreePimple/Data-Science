{
  "nbformat": 4,
  "nbformat_minor": 0,
  "metadata": {
    "colab": {
      "provenance": [],
      "authorship_tag": "ABX9TyNPLTnWZNLaZnLhV+kNw051",
      "include_colab_link": true
    },
    "kernelspec": {
      "name": "python3",
      "display_name": "Python 3"
    },
    "language_info": {
      "name": "python"
    }
  },
  "cells": [
    {
      "cell_type": "markdown",
      "metadata": {
        "id": "view-in-github",
        "colab_type": "text"
      },
      "source": [
        "<a href=\"https://colab.research.google.com/github/MaitreePimple/Data-Science/blob/main/numpy_part_4_(random_operations_%2C_String_Operation_).ipynb\" target=\"_parent\"><img src=\"https://colab.research.google.com/assets/colab-badge.svg\" alt=\"Open In Colab\"/></a>"
      ]
    },
    {
      "cell_type": "code",
      "execution_count": 2,
      "metadata": {
        "colab": {
          "base_uri": "https://localhost:8080/"
        },
        "id": "G-DZYeZhjnYp",
        "outputId": "9478b596-3fe2-447c-81b4-cc40dc435036"
      },
      "outputs": [
        {
          "output_type": "execute_result",
          "data": {
            "text/plain": [
              "array([0.43252186])"
            ]
          },
          "metadata": {},
          "execution_count": 2
        }
      ],
      "source": [
        "import numpy as np\n",
        "np.random.random(1) #random an array is genrated the number in () indictaes how many array you want genrated"
      ]
    },
    {
      "cell_type": "code",
      "source": [
        "np.random.random(10)"
      ],
      "metadata": {
        "colab": {
          "base_uri": "https://localhost:8080/"
        },
        "id": "nsgKTZAF8Ieq",
        "outputId": "bd9f1dc4-342f-42c9-b71a-acdeb71528ce"
      },
      "execution_count": 6,
      "outputs": [
        {
          "output_type": "execute_result",
          "data": {
            "text/plain": [
              "array([0.43131336, 0.94390599, 0.67161609, 0.96967375, 0.26539169,\n",
              "       0.54878807, 0.66348275, 0.62105547, 0.50563092, 0.59397635])"
            ]
          },
          "metadata": {},
          "execution_count": 6
        }
      ]
    },
    {
      "cell_type": "code",
      "source": [
        "np.random.random((2,2))"
      ],
      "metadata": {
        "colab": {
          "base_uri": "https://localhost:8080/"
        },
        "id": "TeUKxaSl8aS_",
        "outputId": "2da63294-4b54-431f-d6d4-b85b068cd90b"
      },
      "execution_count": 8,
      "outputs": [
        {
          "output_type": "execute_result",
          "data": {
            "text/plain": [
              "array([[0.60461061, 0.6065357 ],\n",
              "       [0.60719274, 0.75580725]])"
            ]
          },
          "metadata": {},
          "execution_count": 8
        }
      ]
    },
    {
      "cell_type": "code",
      "source": [
        "np.random.randint(1,10) #randint is used to randomly genrate the integare from the given range"
      ],
      "metadata": {
        "colab": {
          "base_uri": "https://localhost:8080/"
        },
        "id": "xp1NqIR59E1a",
        "outputId": "6d5275c8-87aa-402c-8c98-d25d7e6c5b31"
      },
      "execution_count": 9,
      "outputs": [
        {
          "output_type": "execute_result",
          "data": {
            "text/plain": [
              "8"
            ]
          },
          "metadata": {},
          "execution_count": 9
        }
      ]
    },
    {
      "cell_type": "code",
      "source": [
        "np.random.randint(1,20,(2,2)) #by using this you can randomly genrate 2 array by random digit from given range"
      ],
      "metadata": {
        "colab": {
          "base_uri": "https://localhost:8080/"
        },
        "id": "zRTfbZ679OVD",
        "outputId": "295ede7b-66c9-4f5c-9aca-3d2ceb068559"
      },
      "execution_count": 11,
      "outputs": [
        {
          "output_type": "execute_result",
          "data": {
            "text/plain": [
              "array([[18,  4],\n",
              "       [ 9, 14]])"
            ]
          },
          "metadata": {},
          "execution_count": 11
        }
      ]
    },
    {
      "cell_type": "code",
      "source": [
        "np.random.randint(1,100,(3,4,5))"
      ],
      "metadata": {
        "colab": {
          "base_uri": "https://localhost:8080/"
        },
        "id": "-Bz3U88Y9u6m",
        "outputId": "551b951d-4fd5-4dbf-e6ce-f57ab5599c24"
      },
      "execution_count": 13,
      "outputs": [
        {
          "output_type": "execute_result",
          "data": {
            "text/plain": [
              "array([[[73, 57, 77, 89, 80],\n",
              "        [53, 70, 61, 32, 83],\n",
              "        [78,  7, 61, 99, 73],\n",
              "        [11, 63, 58, 56, 50]],\n",
              "\n",
              "       [[51, 26, 38, 57, 46],\n",
              "        [10, 17, 17, 76, 63],\n",
              "        [14, 31, 25, 71, 80],\n",
              "        [40, 72,  3, 67, 99]],\n",
              "\n",
              "       [[10, 95, 45, 85, 67],\n",
              "        [77, 73, 50, 28, 94],\n",
              "        [13, 60, 14, 45, 16],\n",
              "        [53,  4, 57, 17, 59]]])"
            ]
          },
          "metadata": {},
          "execution_count": 13
        }
      ]
    },
    {
      "cell_type": "code",
      "source": [
        "np.random.randn(2,2) #by using randn negative numbers are printed"
      ],
      "metadata": {
        "colab": {
          "base_uri": "https://localhost:8080/"
        },
        "id": "0lVp0Fmz_2L7",
        "outputId": "c11a81b5-3681-4968-dcca-6aafe1be76aa"
      },
      "execution_count": 14,
      "outputs": [
        {
          "output_type": "execute_result",
          "data": {
            "text/plain": [
              "array([[-1.88720162,  1.97000712],\n",
              "       [ 0.45750362,  0.27104192]])"
            ]
          },
          "metadata": {},
          "execution_count": 14
        }
      ]
    },
    {
      "cell_type": "code",
      "source": [
        "a = np.arange(1,10)\n",
        "a"
      ],
      "metadata": {
        "colab": {
          "base_uri": "https://localhost:8080/"
        },
        "id": "aMrwm3scABuh",
        "outputId": "5c41e16e-a25d-47d1-ab49-671f557eced7"
      },
      "execution_count": 15,
      "outputs": [
        {
          "output_type": "execute_result",
          "data": {
            "text/plain": [
              "array([1, 2, 3, 4, 5, 6, 7, 8, 9])"
            ]
          },
          "metadata": {},
          "execution_count": 15
        }
      ]
    },
    {
      "cell_type": "code",
      "source": [
        "np.random.shuffle(a)\n",
        "a"
      ],
      "metadata": {
        "colab": {
          "base_uri": "https://localhost:8080/"
        },
        "id": "PtI3sX84AUl9",
        "outputId": "c5a20494-c084-4e56-ce25-fc4d0321b978"
      },
      "execution_count": 18,
      "outputs": [
        {
          "output_type": "execute_result",
          "data": {
            "text/plain": [
              "array([2, 7, 1, 6, 5, 9, 8, 3, 4])"
            ]
          },
          "metadata": {},
          "execution_count": 18
        }
      ]
    },
    {
      "cell_type": "code",
      "source": [
        "np.random.choice(a)\n"
      ],
      "metadata": {
        "colab": {
          "base_uri": "https://localhost:8080/"
        },
        "id": "8ALSz46xAd3m",
        "outputId": "f772f43c-6dd4-4b3f-ccc8-b2c241af15a6"
      },
      "execution_count": 20,
      "outputs": [
        {
          "output_type": "execute_result",
          "data": {
            "text/plain": [
              "3"
            ]
          },
          "metadata": {},
          "execution_count": 20
        }
      ]
    },
    {
      "cell_type": "code",
      "source": [
        "s1='Maitree is my name'\n",
        "s2='Indian'"
      ],
      "metadata": {
        "id": "Z_QTh2yrApNi"
      },
      "execution_count": 28,
      "outputs": []
    },
    {
      "cell_type": "code",
      "source": [
        "np.char.add(s1,s2) #concadetion"
      ],
      "metadata": {
        "colab": {
          "base_uri": "https://localhost:8080/"
        },
        "id": "A1IcznVGBYml",
        "outputId": "b44cab13-1a67-417e-edcb-64526151985c"
      },
      "execution_count": 22,
      "outputs": [
        {
          "output_type": "execute_result",
          "data": {
            "text/plain": [
              "array('MaitreeIndian', dtype='<U13')"
            ]
          },
          "metadata": {},
          "execution_count": 22
        }
      ]
    },
    {
      "cell_type": "code",
      "source": [
        "np.char.upper(s1) #Makes all the characters in upper case of the given string"
      ],
      "metadata": {
        "colab": {
          "base_uri": "https://localhost:8080/"
        },
        "id": "ezieQ2ndBc7Q",
        "outputId": "637517d2-7a6c-4023-b446-058881cae7f3"
      },
      "execution_count": 25,
      "outputs": [
        {
          "output_type": "execute_result",
          "data": {
            "text/plain": [
              "array('MAITREE', dtype='<U7')"
            ]
          },
          "metadata": {},
          "execution_count": 25
        }
      ]
    },
    {
      "cell_type": "code",
      "source": [
        "np.char.lower(s2) #Make all the char of str in lowercase"
      ],
      "metadata": {
        "colab": {
          "base_uri": "https://localhost:8080/"
        },
        "id": "RXmFDA1EBmLE",
        "outputId": "a2fcc03e-5a2c-4dc6-f886-4f3b97cf1ed4"
      },
      "execution_count": 26,
      "outputs": [
        {
          "output_type": "execute_result",
          "data": {
            "text/plain": [
              "array('indian', dtype='<U6')"
            ]
          },
          "metadata": {},
          "execution_count": 26
        }
      ]
    },
    {
      "cell_type": "code",
      "source": [
        "np.char.split(s1) #splits the array where space is given"
      ],
      "metadata": {
        "colab": {
          "base_uri": "https://localhost:8080/"
        },
        "id": "4hekmnwPBuV8",
        "outputId": "7c360c24-111a-4ab3-ca86-1e92443edc9c"
      },
      "execution_count": 29,
      "outputs": [
        {
          "output_type": "execute_result",
          "data": {
            "text/plain": [
              "array(list(['Maitree', 'is', 'my', 'name']), dtype=object)"
            ]
          },
          "metadata": {},
          "execution_count": 29
        }
      ]
    },
    {
      "cell_type": "code",
      "source": [
        "s3 = 'Maitree is my \\nname'\n",
        "np.char.splitlines(s3) #splits the str were it find \\n command"
      ],
      "metadata": {
        "colab": {
          "base_uri": "https://localhost:8080/"
        },
        "id": "viDJ7x7wCERU",
        "outputId": "018e57f2-3b5e-43c0-d582-4f10eb980837"
      },
      "execution_count": 30,
      "outputs": [
        {
          "output_type": "execute_result",
          "data": {
            "text/plain": [
              "array(list(['Maitree is my ', 'name']), dtype=object)"
            ]
          },
          "metadata": {},
          "execution_count": 30
        }
      ]
    },
    {
      "cell_type": "code",
      "source": [
        "np.char.replace(s1,'name','Friend')"
      ],
      "metadata": {
        "colab": {
          "base_uri": "https://localhost:8080/"
        },
        "id": "EGHFqzEOCkIu",
        "outputId": "27ca7922-de2a-4fad-8c0b-76689f88d121"
      },
      "execution_count": 32,
      "outputs": [
        {
          "output_type": "execute_result",
          "data": {
            "text/plain": [
              "array('Maitree is my Friend', dtype='<U20')"
            ]
          },
          "metadata": {},
          "execution_count": 32
        }
      ]
    },
    {
      "cell_type": "code",
      "source": [
        "print('******************Maitree*************')"
      ],
      "metadata": {
        "colab": {
          "base_uri": "https://localhost:8080/"
        },
        "id": "FrDAd4R3DBEK",
        "outputId": "4c22fb23-0c17-42dd-c300-aad1efac84fd"
      },
      "execution_count": 35,
      "outputs": [
        {
          "output_type": "stream",
          "name": "stdout",
          "text": [
            "******************Maitree*************\n"
          ]
        }
      ]
    },
    {
      "cell_type": "code",
      "source": [
        "print(np.char.center('Maitree',40,fillchar='*'))"
      ],
      "metadata": {
        "colab": {
          "base_uri": "https://localhost:8080/"
        },
        "id": "ufSaEfKADQBB",
        "outputId": "db8b6622-f065-4dba-fc4a-3a5ba25cf5ff"
      },
      "execution_count": 34,
      "outputs": [
        {
          "output_type": "stream",
          "name": "stdout",
          "text": [
            "****************Maitree*****************\n"
          ]
        }
      ]
    },
    {
      "cell_type": "code",
      "source": [],
      "metadata": {
        "id": "e2Ktr-GsDc6H"
      },
      "execution_count": null,
      "outputs": []
    }
  ]
}