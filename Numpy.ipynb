{
  "nbformat": 4,
  "nbformat_minor": 0,
  "metadata": {
    "colab": {
      "provenance": [],
      "authorship_tag": "ABX9TyN7NuSwMy4KsgPjoGoccmmi",
      "include_colab_link": true
    },
    "kernelspec": {
      "name": "python3",
      "display_name": "Python 3"
    },
    "language_info": {
      "name": "python"
    }
  },
  "cells": [
    {
      "cell_type": "markdown",
      "metadata": {
        "id": "view-in-github",
        "colab_type": "text"
      },
      "source": [
        "<a href=\"https://colab.research.google.com/github/MaitreePimple/Data-Science/blob/main/Numpy.ipynb\" target=\"_parent\"><img src=\"https://colab.research.google.com/assets/colab-badge.svg\" alt=\"Open In Colab\"/></a>"
      ]
    },
    {
      "cell_type": "code",
      "execution_count": 1,
      "metadata": {
        "id": "zcRwI1OoYn5w"
      },
      "outputs": [],
      "source": [
        "import numpy as np"
      ]
    },
    {
      "cell_type": "code",
      "source": [
        "lst = [1,2,3,4,5] #in python list it can store only one deminision array in it of any type but by using numpy we can store multiple deminision array\n",
        "print(lst)"
      ],
      "metadata": {
        "colab": {
          "base_uri": "https://localhost:8080/"
        },
        "id": "IWDeR2h_Y5lg",
        "outputId": "1de09f6c-0e7b-449a-ff35-df272f22889b"
      },
      "execution_count": 2,
      "outputs": [
        {
          "output_type": "stream",
          "name": "stdout",
          "text": [
            "[1, 2, 3, 4, 5]\n"
          ]
        }
      ]
    },
    {
      "cell_type": "code",
      "source": [
        "print ('1D ARRAY')\n",
        "a = np.array([1,2,3,4,50])\n",
        "print(a)\n",
        "\n",
        "#-------------------------------------\n",
        "\n",
        "print('2D ARRAY')\n",
        "b = np.array([[1,2],[6,7]])\n",
        "print(b)\n",
        "\n",
        "#----------------------------------------\n",
        "\n",
        "print('3D ARRAY')\n",
        "c = np.array([[1,2,3],[4,5,6],[7,8,9]])\n",
        "print(c)\n",
        "\n",
        "#-------------------------------------------\n",
        "\n",
        "print('4D ARRAY')\n",
        "d = np.array([[1,2,3,4],[3,4,5,6],[5,6,7,8],[7,8,9,10]])\n",
        "print(d)"
      ],
      "metadata": {
        "colab": {
          "base_uri": "https://localhost:8080/"
        },
        "id": "ZbLFTiDBZY5N",
        "outputId": "3a6d26e1-6937-4d34-bb73-01cc7eefadc0"
      },
      "execution_count": 12,
      "outputs": [
        {
          "output_type": "stream",
          "name": "stdout",
          "text": [
            "1D ARRAY\n",
            "[ 1  2  3  4 50]\n",
            "2D ARRAY\n",
            "[[1 2]\n",
            " [6 7]]\n",
            "3D ARRAY\n",
            "[[1 2 3]\n",
            " [4 5 6]\n",
            " [7 8 9]]\n",
            "4D ARRAY\n",
            "[[ 1  2  3  4]\n",
            " [ 3  4  5  6]\n",
            " [ 5  6  7  8]\n",
            " [ 7  8  9 10]]\n"
          ]
        }
      ]
    },
    {
      "cell_type": "code",
      "source": [
        "type(a) #type of data"
      ],
      "metadata": {
        "colab": {
          "base_uri": "https://localhost:8080/"
        },
        "id": "25DOXRXjZnOn",
        "outputId": "c5cec03b-5ba6-4a80-ec32-3e8411ed2998"
      },
      "execution_count": 10,
      "outputs": [
        {
          "output_type": "execute_result",
          "data": {
            "text/plain": [
              "numpy.ndarray"
            ]
          },
          "metadata": {},
          "execution_count": 10
        }
      ]
    },
    {
      "cell_type": "code",
      "source": [
        "print(a.size)\n",
        "print(b.size)\n",
        "print(c.size)\n",
        "print(d.size)\n",
        "#SIZE GIVE NUMBER OF ELEMNETS PRESENT IN ARRAY"
      ],
      "metadata": {
        "colab": {
          "base_uri": "https://localhost:8080/"
        },
        "id": "1hgV4yq2bQj6",
        "outputId": "ea933530-5e52-4de1-c6ec-75553b4ffe33"
      },
      "execution_count": 13,
      "outputs": [
        {
          "output_type": "stream",
          "name": "stdout",
          "text": [
            "5\n",
            "4\n",
            "9\n",
            "16\n"
          ]
        }
      ]
    },
    {
      "cell_type": "code",
      "source": [
        "#shape = (rows,columns)\n",
        "print(a.shape)\n",
        "print(b.shape)\n",
        "print(c.shape)\n",
        "print(d.shape)"
      ],
      "metadata": {
        "colab": {
          "base_uri": "https://localhost:8080/"
        },
        "id": "DHWtYg5EbekK",
        "outputId": "0a2b0627-d779-4040-8f74-01986b8f12d7"
      },
      "execution_count": 14,
      "outputs": [
        {
          "output_type": "stream",
          "name": "stdout",
          "text": [
            "(5,)\n",
            "(2, 2)\n",
            "(3, 3)\n",
            "(4, 4)\n"
          ]
        }
      ]
    },
    {
      "cell_type": "code",
      "source": [
        "#dtype = TYPE OF DATA PRSENT IN THE ARRAY\n",
        "\n",
        "print(a.dtype)\n",
        "print(b.dtype)\n",
        "print(c.dtype)\n",
        "print(d.dtype)"
      ],
      "metadata": {
        "colab": {
          "base_uri": "https://localhost:8080/"
        },
        "id": "bGaXut8lchuN",
        "outputId": "651e117a-1538-4ef1-d020-b5b3354aa564"
      },
      "execution_count": 15,
      "outputs": [
        {
          "output_type": "stream",
          "name": "stdout",
          "text": [
            "int64\n",
            "int64\n",
            "int64\n",
            "int64\n"
          ]
        }
      ]
    },
    {
      "cell_type": "code",
      "source": [
        "import numpy as np\n",
        "e = np.array ([[1,2,3,4.5,4.6],\n",
        "             [2.3,4,5,6],\n",
        "             [6.0,7,8,9]])\n",
        "print(e.dtype)"
      ],
      "metadata": {
        "colab": {
          "base_uri": "https://localhost:8080/",
          "height": 245
        },
        "id": "rO2cwfJAdJbZ",
        "outputId": "f4614874-ee7f-47db-8e6d-4ecc55a4e9ce"
      },
      "execution_count": 19,
      "outputs": [
        {
          "output_type": "error",
          "ename": "ValueError",
          "evalue": "setting an array element with a sequence. The requested array has an inhomogeneous shape after 1 dimensions. The detected shape was (3,) + inhomogeneous part.",
          "traceback": [
            "\u001b[0;31m---------------------------------------------------------------------------\u001b[0m",
            "\u001b[0;31mValueError\u001b[0m                                Traceback (most recent call last)",
            "\u001b[0;32m<ipython-input-19-390d990599ae>\u001b[0m in \u001b[0;36m<cell line: 2>\u001b[0;34m()\u001b[0m\n\u001b[1;32m      1\u001b[0m \u001b[0;32mimport\u001b[0m \u001b[0mnumpy\u001b[0m \u001b[0;32mas\u001b[0m \u001b[0mnp\u001b[0m\u001b[0;34m\u001b[0m\u001b[0;34m\u001b[0m\u001b[0m\n\u001b[0;32m----> 2\u001b[0;31m e = np.array ([[1,2,3,4.5,4.6],\n\u001b[0m\u001b[1;32m      3\u001b[0m              \u001b[0;34m[\u001b[0m\u001b[0;36m2.3\u001b[0m\u001b[0;34m,\u001b[0m\u001b[0;36m4\u001b[0m\u001b[0;34m,\u001b[0m\u001b[0;36m5\u001b[0m\u001b[0;34m,\u001b[0m\u001b[0;36m6\u001b[0m\u001b[0;34m]\u001b[0m\u001b[0;34m,\u001b[0m\u001b[0;34m\u001b[0m\u001b[0;34m\u001b[0m\u001b[0m\n\u001b[1;32m      4\u001b[0m              [6.0,7,8,9]])\n\u001b[1;32m      5\u001b[0m \u001b[0mprint\u001b[0m\u001b[0;34m(\u001b[0m\u001b[0me\u001b[0m\u001b[0;34m.\u001b[0m\u001b[0mdtype\u001b[0m\u001b[0;34m)\u001b[0m\u001b[0;34m\u001b[0m\u001b[0;34m\u001b[0m\u001b[0m\n",
            "\u001b[0;31mValueError\u001b[0m: setting an array element with a sequence. The requested array has an inhomogeneous shape after 1 dimensions. The detected shape was (3,) + inhomogeneous part."
          ]
        }
      ]
    },
    {
      "cell_type": "code",
      "source": [
        "e = np.array([[1,2,3,4.2,5],[6,7,8.9,9,10],[11,12,13,14,15]])\n",
        "print(e.dtype)"
      ],
      "metadata": {
        "colab": {
          "base_uri": "https://localhost:8080/"
        },
        "id": "nJGyPnuqg-9k",
        "outputId": "21acd7b0-8b01-447c-8383-4fb083c8ef1f"
      },
      "execution_count": 21,
      "outputs": [
        {
          "output_type": "stream",
          "name": "stdout",
          "text": [
            "float64\n"
          ]
        }
      ]
    },
    {
      "cell_type": "code",
      "source": [
        "#arr.transpose() IT REPLACE ROWS INTO COLUMNS AND COLUMNS INTO ROWS\n",
        "#a.transpose() //array([ 1,  2,  3,  4, 50])\n",
        "#b.transpose()  //array([[1, 6],[2, 7]])\n",
        "#c.transpose() //array([[1, 4, 7],[2, 5, 8],[3, 6, 9]])\n",
        "#d.transpose()  //array([[ 1,  3,  5,  7],[ 2,  4,  6,  8],[ 3,  5,  7,  9], [ 4,  6,  8, 10]])\n",
        "#e.transpose() //array([[ 1. ,  6. , 11. ],[ 2. ,  7. , 12. ],[ 3. ,  8.9, 13. ],[ 4.2,  9. , 14. ],[ 5. , 10. , 15. ]])\n",
        "\n",
        "\n",
        "\n"
      ],
      "metadata": {
        "colab": {
          "base_uri": "https://localhost:8080/"
        },
        "id": "ahmx_nkShwZh",
        "outputId": "8457d742-977f-4263-afed-e531d3fc25b6"
      },
      "execution_count": 27,
      "outputs": [
        {
          "output_type": "execute_result",
          "data": {
            "text/plain": [
              "array([[ 1. ,  6. , 11. ],\n",
              "       [ 2. ,  7. , 12. ],\n",
              "       [ 3. ,  8.9, 13. ],\n",
              "       [ 4.2,  9. , 14. ],\n",
              "       [ 5. , 10. , 15. ]])"
            ]
          },
          "metadata": {},
          "execution_count": 27
        }
      ]
    },
    {
      "cell_type": "code",
      "source": [
        "#np.empty((rows,cols),dtype) // (rows,cols) is called as tuple  (in these we get empty array with random numbers)\n",
        "\n",
        "#np.empty((2,3),dtype=int)\n",
        "np.empty((4,4),dtype=float)"
      ],
      "metadata": {
        "colab": {
          "base_uri": "https://localhost:8080/"
        },
        "id": "8e19z29cjBEp",
        "outputId": "8212532e-fd81-45f1-d9b8-438bdc09e94c"
      },
      "execution_count": 30,
      "outputs": [
        {
          "output_type": "execute_result",
          "data": {
            "text/plain": [
              "array([[4.9e-324, 9.9e-324, 1.5e-323, 2.0e-323],\n",
              "       [1.5e-323, 2.0e-323, 2.5e-323, 3.0e-323],\n",
              "       [2.5e-323, 3.0e-323, 3.5e-323, 4.0e-323],\n",
              "       [3.5e-323, 4.0e-323, 4.4e-323, 4.9e-323]])"
            ]
          },
          "metadata": {},
          "execution_count": 30
        }
      ]
    },
    {
      "cell_type": "code",
      "source": [
        "#np.ones((rows,cols),dtype)\n",
        "\n",
        "#np.ones((2,3),dtype=int)\n",
        "#x = np.ones((3,4),dtype=float)\n",
        "#z\n",
        "#y = np.ones(6)\n",
        "#y\n",
        "#z = np.ones((2,3),dtype=int)\n",
        "#z"
      ],
      "metadata": {
        "colab": {
          "base_uri": "https://localhost:8080/"
        },
        "id": "XJwhpiJ_lGgp",
        "outputId": "a81b42f1-5c18-40fc-ad28-86bab35c688f"
      },
      "execution_count": 38,
      "outputs": [
        {
          "output_type": "execute_result",
          "data": {
            "text/plain": [
              "array([[1, 1, 1],\n",
              "       [1, 1, 1]])"
            ]
          },
          "metadata": {},
          "execution_count": 38
        }
      ]
    },
    {
      "cell_type": "code",
      "source": [
        "#np.zeros((rows,columns),dtype)\n",
        "\n",
        "#x = np.zeros(4)\n",
        "#x\n",
        "#y = np.zeros((4,8), dtype = int)\n",
        "#y\n",
        "#z = np.ones((4,8),dtype=str)\n",
        "#z\n",
        "\n",
        "#z = np.ones((4,8),dtype = bool)\n",
        "#z"
      ],
      "metadata": {
        "colab": {
          "base_uri": "https://localhost:8080/"
        },
        "id": "wtBkUuo9l2I3",
        "outputId": "d8da4e9e-7079-42de-83fe-f6c083e33535"
      },
      "execution_count": 44,
      "outputs": [
        {
          "output_type": "execute_result",
          "data": {
            "text/plain": [
              "array([[ True,  True,  True,  True,  True,  True,  True,  True],\n",
              "       [ True,  True,  True,  True,  True,  True,  True,  True],\n",
              "       [ True,  True,  True,  True,  True,  True,  True,  True],\n",
              "       [ True,  True,  True,  True,  True,  True,  True,  True]])"
            ]
          },
          "metadata": {},
          "execution_count": 44
        }
      ]
    },
    {
      "cell_type": "code",
      "source": [],
      "metadata": {
        "id": "BAas-NjWpstT"
      },
      "execution_count": null,
      "outputs": []
    }
  ]
}